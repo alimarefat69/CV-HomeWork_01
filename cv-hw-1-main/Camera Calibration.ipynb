{
 "cells": [
  {
   "cell_type": "markdown",
   "id": "b2980ec6",
   "metadata": {},
   "source": [
    "# Camera Calibration\n",
    "\n",
    "To find the intrinsic and extrinsic parameters of a image formation pipeline. The intrinsic parameters contains information like focal length, principal point and the extrinsic parameters contains information about the rotation and translation of the camera with respect to the world coordinates.\n",
    "\n",
    "- we collect the world points as xw, yw, zw\n",
    "- we collect the camera coordinates as xc and yc\n"
   ]
  },
  {
   "cell_type": "code",
   "execution_count": 1,
   "id": "3b076ccf",
   "metadata": {},
   "outputs": [],
   "source": [
    "import numpy as np"
   ]
  },
  {
   "cell_type": "code",
   "execution_count": 2,
   "id": "d456c622",
   "metadata": {},
   "outputs": [],
   "source": [
    "xw=[0, 21.68, 43.36, 65.04, 86.72, 108.4, 130.08]\n",
    "yw=[21.68, 43.36, 65.04, 86.72, 108.40, 130.08, 0]\n",
    "#zw = [0]*7\n",
    "zw=[713.74]*7\n",
    "xc = [366.9331, 416.9176, 466.7643, 516.8607, 566.9595, 617.385, 678.7745]\n",
    "yc = [240.6366, 293.9554, 346.9755, 400.1464, 453.5715, 507.2507, 195.8701]"
   ]
  },
  {
   "cell_type": "markdown",
   "id": "76cfe325",
   "metadata": {},
   "source": [
    "### Sanity check: done here to check number of points"
   ]
  },
  {
   "cell_type": "code",
   "execution_count": 15,
   "id": "82cb936d",
   "metadata": {},
   "outputs": [
    {
     "data": {
      "text/plain": [
       "7"
      ]
     },
     "execution_count": 15,
     "metadata": {},
     "output_type": "execute_result"
    }
   ],
   "source": [
    "len(xw)"
   ]
  },
  {
   "cell_type": "markdown",
   "id": "ec3dc7f3",
   "metadata": {},
   "source": [
    "## Computing things required for A matrix to solve \n",
    "- we compute xwxc, ywxc, zwxc, xwyc, ywyc, and zwyc"
   ]
  },
  {
   "cell_type": "code",
   "execution_count": 16,
   "id": "a6bceda0",
   "metadata": {},
   "outputs": [],
   "source": [
    "#xw,yw,zw,1,0,0,0,0,-xwxc,-ywxc,-zwxc,-xc\n",
    "#0,0,0,0,xw,yw,zw,1,-xwyc,-ywyc,-zwyc,-yc\n",
    "xwxc=-np.multiply(np.array(xw),np.array(xc))\n",
    "ywxc =-np.multiply(np.array(yw),np.array(xc)) \n",
    "zwxc=-np.multiply(np.array(zw),np.array(xc))\n",
    "xwyc=-np.multiply(np.array(xw),np.array(yc))\n",
    "ywyc=-np.multiply(np.array(yw),np.array(yc))\n",
    "zwyc=-np.multiply(np.array(zw),np.array(yc))"
   ]
  },
  {
   "cell_type": "code",
   "execution_count": 17,
   "id": "c2bd709b",
   "metadata": {},
   "outputs": [
    {
     "data": {
      "text/plain": [
       "array([    -0.      ,  -9038.773568, -20238.900048, -33616.619928,\n",
       "       -49166.72784 , -66924.534   , -88294.98696 ])"
      ]
     },
     "execution_count": 17,
     "metadata": {},
     "output_type": "execute_result"
    }
   ],
   "source": [
    "xwxc"
   ]
  },
  {
   "cell_type": "markdown",
   "id": "77531eb0",
   "metadata": {},
   "source": [
    "# Once we have all we need we solve for the matrices\n",
    "\n",
    "$\\begin{bmatrix} u^{i} \\\\ v^{i} \\\\ 1 \\end{bmatrix}  = \\begin{bmatrix} p_{11} & p_{12} & p_{13} & p_{14}  \\\\ p_{21} & p_{22} & p_{23} & p_{24} \\\\ p_{31} & p_{32} & p_{33} & p_{34} \\end{bmatrix} \\begin{bmatrix} x_{w}^{i} \\\\ y_{w}^{i} \\\\ z_{w}^{i} \\\\ 1 \\end{bmatrix}$\n",
    "\n",
    "###### So to solve for this we will have A.p=0\n",
    "\n",
    "$\\begin{bmatrix}xw^{(i)}&yw^{(i)}&zw^{(i)}&1&0& 0 & 0 & 0 & -xc^{(i)}xw^{(i)}&-xc^{(i)}yw^{(i)}&-xc^{(i)}zw^{(i)} &-xc^{(i)}\\\\ 0&0&0&0&xw^{(i)}&yw^{(i)}&zw^{(i)}&1&-yc^{(i)}xw^{(i)}&-yc^{(i)}yw^{(i)}& -yc^{(i)}zw^{(i)} &-yc^{(i)} \\end{bmatrix} \\begin{bmatrix} p_{11} \\\\ p_{12} \\\\ p_{13} \\\\ p_{14}  \\\\ p_{21} \\\\ p_{22} \\\\ p_{23} \\\\ p_{24} \\\\ p_{31} \\\\ p_{32} \\\\ p_{33} \\\\ p_{34} \\end{bmatrix} = \\begin{bmatrix} 0 \\\\ 0 \\end{bmatrix} $\n",
    "\n",
    "###### Now we solve it for almost 7 points which gives us 14 equations for 12 unknowns:\n",
    "\n",
    "$\\begin{bmatrix} xw^{(1)} & yw^{(1)} & zw^{(1)} &1 & 0 & 0 & 0 & 0 & -xc^{(1)}xw^{(1)} & -xc^{(1)}yw^{(1)} & -xc^{(1)}zw^{(1)} & -xc^{(1)} \\\\ 0 & 0 & 0 & 0 & xw^{(1)} & yw^{(1)} & zw^{(1)}& 1 & -yc^{(1)}xw^{(1)} & -yc^{(1)}yw^{(1)} & -yc^{(1)}zw^{(1)} &-yc^{(1)} \\\\ ... & ... & ... & ... & ... & ...& ... & ... & ... & ... & ... & ...\\\\ xw^{(7)} & yw^{(7)} & zw^{(7)} &1 & 0 & 0 & 0 & 0 & -xc^{(7)}xw^{(7)} & -xc^{(7)}yw^{(7)} & -xc^{(7)}zw^{(7)} & -xc^{(7)} \\\\ 0 & 0 & 0 & 0 & xw^{(7)} & yw^{(7)} & zw^{(7)}& 1 & -yc^{(7)}xw^{(7)} & -yc^{(7)}yw^{(7)} & -yc^{(7)}zw^{(7)} &-yc^{(7)}\\end{bmatrix}\\begin{bmatrix} p_{11} \\\\ p_{12} \\\\ p_{13} \\\\ p_{14}  \\\\ p_{21} \\\\ p_{22} \\\\ p_{23} \\\\ p_{24} \\\\ p_{31} \\\\ p_{32} \\\\ p_{33} \\\\ p_{34} \\end{bmatrix} =\\begin{bmatrix} 0 \\\\ 0 \\\\ 0 \\\\ 0 \\\\ 0 \\\\ 0 \\\\ 0 \\\\ 0 \\\\ 0 \\\\ 0 \\\\ 0 \\\\ 0 \\\\ 0 \\\\ 0 \\end{bmatrix} $\n",
    "\n",
    "###### we then find the rank of the matrix and take the least eigen values and then the linear combination of their eigenvectors are your projection matrix on reshaping"
   ]
  },
  {
   "cell_type": "code",
   "execution_count": 18,
   "id": "2905322d",
   "metadata": {},
   "outputs": [],
   "source": [
    "A=[]\n",
    "for i in range(0,7):\n",
    "    mat1 = [xw[i],yw[i],zw[i],1,0,0,0,0,xwxc[i],ywxc[i],zwxc[i],-xc[i]]\n",
    "    mat2 = [0,0,0,0,xw[i],yw[i],zw[i],1,xwyc[i],ywyc[i],zwyc[i],-yc[i]]\n",
    "    A.append(mat1)\n",
    "    A.append(mat2)"
   ]
  },
  {
   "cell_type": "code",
   "execution_count": 19,
   "id": "149eeefb",
   "metadata": {},
   "outputs": [],
   "source": [
    "A = np.array(A)"
   ]
  },
  {
   "cell_type": "code",
   "execution_count": 20,
   "id": "3e7d5779",
   "metadata": {},
   "outputs": [
    {
     "data": {
      "text/plain": [
       "array([[ 0.00000000e+00,  2.16800000e+01,  7.13740000e+02,\n",
       "         1.00000000e+00,  0.00000000e+00,  0.00000000e+00,\n",
       "         0.00000000e+00,  0.00000000e+00, -0.00000000e+00,\n",
       "        -7.95510961e+03, -2.61894831e+05, -3.66933100e+02],\n",
       "       [ 0.00000000e+00,  0.00000000e+00,  0.00000000e+00,\n",
       "         0.00000000e+00,  0.00000000e+00,  2.16800000e+01,\n",
       "         7.13740000e+02,  1.00000000e+00, -0.00000000e+00,\n",
       "        -5.21700149e+03, -1.71751967e+05, -2.40636600e+02],\n",
       "       [ 2.16800000e+01,  4.33600000e+01,  7.13740000e+02,\n",
       "         1.00000000e+00,  0.00000000e+00,  0.00000000e+00,\n",
       "         0.00000000e+00,  0.00000000e+00, -9.03877357e+03,\n",
       "        -1.80775471e+04, -2.97570768e+05, -4.16917600e+02],\n",
       "       [ 0.00000000e+00,  0.00000000e+00,  0.00000000e+00,\n",
       "         0.00000000e+00,  2.16800000e+01,  4.33600000e+01,\n",
       "         7.13740000e+02,  1.00000000e+00, -6.37295307e+03,\n",
       "        -1.27459061e+04, -2.09807727e+05, -2.93955400e+02],\n",
       "       [ 4.33600000e+01,  6.50400000e+01,  7.13740000e+02,\n",
       "         1.00000000e+00,  0.00000000e+00,  0.00000000e+00,\n",
       "         0.00000000e+00,  0.00000000e+00, -2.02389000e+04,\n",
       "        -3.03583501e+04, -3.33148351e+05, -4.66764300e+02],\n",
       "       [ 0.00000000e+00,  0.00000000e+00,  0.00000000e+00,\n",
       "         0.00000000e+00,  4.33600000e+01,  6.50400000e+01,\n",
       "         7.13740000e+02,  1.00000000e+00, -1.50448577e+04,\n",
       "        -2.25672865e+04, -2.47650293e+05, -3.46975500e+02],\n",
       "       [ 6.50400000e+01,  8.67200000e+01,  7.13740000e+02,\n",
       "         1.00000000e+00,  0.00000000e+00,  0.00000000e+00,\n",
       "         0.00000000e+00,  0.00000000e+00, -3.36166199e+04,\n",
       "        -4.48221599e+04, -3.68904156e+05, -5.16860700e+02],\n",
       "       [ 0.00000000e+00,  0.00000000e+00,  0.00000000e+00,\n",
       "         0.00000000e+00,  6.50400000e+01,  8.67200000e+01,\n",
       "         7.13740000e+02,  1.00000000e+00, -2.60255219e+04,\n",
       "        -3.47006958e+04, -2.85600492e+05, -4.00146400e+02],\n",
       "       [ 8.67200000e+01,  1.08400000e+02,  7.13740000e+02,\n",
       "         1.00000000e+00,  0.00000000e+00,  0.00000000e+00,\n",
       "         0.00000000e+00,  0.00000000e+00, -4.91667278e+04,\n",
       "        -6.14584098e+04, -4.04661674e+05, -5.66959500e+02],\n",
       "       [ 0.00000000e+00,  0.00000000e+00,  0.00000000e+00,\n",
       "         0.00000000e+00,  8.67200000e+01,  1.08400000e+02,\n",
       "         7.13740000e+02,  1.00000000e+00, -3.93337205e+04,\n",
       "        -4.91671506e+04, -3.23732122e+05, -4.53571500e+02],\n",
       "       [ 1.08400000e+02,  1.30080000e+02,  7.13740000e+02,\n",
       "         1.00000000e+00,  0.00000000e+00,  0.00000000e+00,\n",
       "         0.00000000e+00,  0.00000000e+00, -6.69245340e+04,\n",
       "        -8.03094408e+04, -4.40652370e+05, -6.17385000e+02],\n",
       "       [ 0.00000000e+00,  0.00000000e+00,  0.00000000e+00,\n",
       "         0.00000000e+00,  1.08400000e+02,  1.30080000e+02,\n",
       "         7.13740000e+02,  1.00000000e+00, -5.49859759e+04,\n",
       "        -6.59831711e+04, -3.62045115e+05, -5.07250700e+02],\n",
       "       [ 1.30080000e+02,  0.00000000e+00,  7.13740000e+02,\n",
       "         1.00000000e+00,  0.00000000e+00,  0.00000000e+00,\n",
       "         0.00000000e+00,  0.00000000e+00, -8.82949870e+04,\n",
       "        -0.00000000e+00, -4.84468512e+05, -6.78774500e+02],\n",
       "       [ 0.00000000e+00,  0.00000000e+00,  0.00000000e+00,\n",
       "         0.00000000e+00,  1.30080000e+02,  0.00000000e+00,\n",
       "         7.13740000e+02,  1.00000000e+00, -2.54787826e+04,\n",
       "        -0.00000000e+00, -1.39800325e+05, -1.95870100e+02]])"
      ]
     },
     "execution_count": 20,
     "metadata": {},
     "output_type": "execute_result"
    }
   ],
   "source": [
    "A"
   ]
  },
  {
   "cell_type": "code",
   "execution_count": 21,
   "id": "54637df9",
   "metadata": {},
   "outputs": [
    {
     "data": {
      "text/plain": [
       "(14, 12)"
      ]
     },
     "execution_count": 21,
     "metadata": {},
     "output_type": "execute_result"
    }
   ],
   "source": [
    "A.shape"
   ]
  },
  {
   "cell_type": "code",
   "execution_count": 22,
   "id": "e3d46956",
   "metadata": {},
   "outputs": [],
   "source": [
    "inner_product = np.dot(A.T,A)"
   ]
  },
  {
   "cell_type": "code",
   "execution_count": 23,
   "id": "a51eb81b",
   "metadata": {},
   "outputs": [
    {
     "data": {
      "text/plain": [
       "array([[ 4.27720384e+04,  3.29015680e+04,  3.24951547e+05,\n",
       "         4.55280000e+02,  0.00000000e+00,  0.00000000e+00,\n",
       "         0.00000000e+00,  0.00000000e+00, -2.62637143e+07,\n",
       "        -1.86587092e+07, -1.90768814e+08, -2.67280542e+05],\n",
       "       [ 3.29015680e+04,  4.27720384e+04,  3.24951547e+05,\n",
       "         4.55280000e+02,  0.00000000e+00,  0.00000000e+00,\n",
       "         0.00000000e+00,  0.00000000e+00, -1.86587092e+07,\n",
       "        -2.39265377e+07, -1.73425271e+08, -2.42981017e+05],\n",
       "       [ 3.24951547e+05,  3.24951547e+05,  3.56597351e+06,\n",
       "         4.99618000e+03,  0.00000000e+00,  0.00000000e+00,\n",
       "         0.00000000e+00,  0.00000000e+00, -1.90768814e+08,\n",
       "        -1.73425271e+08, -1.84951493e+09, -2.59130066e+06],\n",
       "       [ 4.55280000e+02,  4.55280000e+02,  4.99618000e+03,\n",
       "         7.00000000e+00,  0.00000000e+00,  0.00000000e+00,\n",
       "         0.00000000e+00,  0.00000000e+00, -2.67280542e+05,\n",
       "        -2.42981017e+05, -2.59130066e+06, -3.63059470e+03],\n",
       "       [ 0.00000000e+00,  0.00000000e+00,  0.00000000e+00,\n",
       "         0.00000000e+00,  4.27720384e+04,  3.29015680e+04,\n",
       "         3.24951547e+05,  4.55280000e+02, -1.51689907e+07,\n",
       "        -1.49281331e+07, -1.19367171e+08, -1.67241812e+05],\n",
       "       [ 0.00000000e+00,  0.00000000e+00,  0.00000000e+00,\n",
       "         0.00000000e+00,  3.29015680e+04,  4.27720384e+04,\n",
       "         3.24951547e+05,  4.55280000e+02, -1.49281331e+07,\n",
       "        -1.90555978e+07, -1.35882686e+08, -1.90381212e+05],\n",
       "       [ 0.00000000e+00,  0.00000000e+00,  0.00000000e+00,\n",
       "         0.00000000e+00,  3.24951547e+05,  3.24951547e+05,\n",
       "         3.56597351e+06,  4.99618000e+03, -1.19367171e+08,\n",
       "        -1.35882686e+08, -1.24218456e+09, -1.74038804e+06],\n",
       "       [ 0.00000000e+00,  0.00000000e+00,  0.00000000e+00,\n",
       "         0.00000000e+00,  4.55280000e+02,  4.55280000e+02,\n",
       "         4.99618000e+03,  7.00000000e+00, -1.67241812e+05,\n",
       "        -1.90381212e+05, -1.74038804e+06, -2.43840620e+03],\n",
       "       [-2.62637143e+07, -1.86587092e+07, -1.90768814e+08,\n",
       "        -2.67280542e+05, -1.51689907e+07, -1.49281331e+07,\n",
       "        -1.19367171e+08, -1.67241812e+05,  2.24777123e+10,\n",
       "         1.75668992e+10,  1.62694822e+11,  2.27946903e+08],\n",
       "       [-1.86587092e+07, -2.39265377e+07, -1.73425271e+08,\n",
       "        -2.42981017e+05, -1.49281331e+07, -1.90555978e+07,\n",
       "        -1.35882686e+08, -1.90381212e+05,  1.75668992e+10,\n",
       "         2.22217628e+10,  1.53245497e+11,  2.14707732e+08],\n",
       "       [-1.90768814e+08, -1.73425271e+08, -1.84951493e+09,\n",
       "        -2.59130066e+06, -1.19367171e+08, -1.35882686e+08,\n",
       "        -1.24218456e+09, -1.74038804e+06,  1.62694822e+11,\n",
       "         1.53245497e+11,  1.46869030e+12,  2.05773853e+09],\n",
       "       [-2.67280542e+05, -2.42981017e+05, -2.59130066e+06,\n",
       "        -3.63059470e+03, -1.67241812e+05, -1.90381212e+05,\n",
       "        -1.74038804e+06, -2.43840620e+03,  2.27946903e+08,\n",
       "         2.14707732e+08,  2.05773853e+09,  2.88303658e+06]])"
      ]
     },
     "execution_count": 23,
     "metadata": {},
     "output_type": "execute_result"
    }
   ],
   "source": [
    "inner_product"
   ]
  },
  {
   "cell_type": "code",
   "execution_count": 24,
   "id": "e872686e",
   "metadata": {},
   "outputs": [
    {
     "data": {
      "text/plain": [
       "(12, 12)"
      ]
     },
     "execution_count": 24,
     "metadata": {},
     "output_type": "execute_result"
    }
   ],
   "source": [
    "inner_product.shape"
   ]
  },
  {
   "cell_type": "code",
   "execution_count": 25,
   "id": "cbb89ff2",
   "metadata": {},
   "outputs": [],
   "source": [
    "w, v = np.linalg.eig(inner_product)"
   ]
  },
  {
   "cell_type": "code",
   "execution_count": 26,
   "id": "646b1733",
   "metadata": {},
   "outputs": [
    {
     "data": {
      "text/plain": [
       "array([ 1.50284271e+12,  4.25117817e+09,  6.30241419e+09,  3.56520226e+06,\n",
       "        7.36166840e+04,  1.57364399e+04,  9.82206104e+02,  7.79910325e-03,\n",
       "       -5.23176925e-07,  1.24813856e-08,  1.32458727e-09, -1.11539181e-14])"
      ]
     },
     "execution_count": 26,
     "metadata": {},
     "output_type": "execute_result"
    }
   ],
   "source": [
    "w"
   ]
  },
  {
   "cell_type": "code",
   "execution_count": 27,
   "id": "25cdb261",
   "metadata": {},
   "outputs": [
    {
     "data": {
      "text/plain": [
       "array([ 1.00000000e+00,  2.82875789e-03,  4.19366188e-03,  2.37230566e-06,\n",
       "        4.89849560e-08,  1.04711157e-08,  6.53565471e-10,  5.18956721e-15,\n",
       "       -3.48124871e-19,  8.30518427e-21,  8.81387830e-22, -7.42187991e-27])"
      ]
     },
     "execution_count": 27,
     "metadata": {},
     "output_type": "execute_result"
    }
   ],
   "source": [
    "w/w[0]"
   ]
  },
  {
   "cell_type": "markdown",
   "id": "edb8e366",
   "metadata": {},
   "source": [
    "### we take the last 6 eigen values as the rank of the matrix"
   ]
  },
  {
   "cell_type": "code",
   "execution_count": 28,
   "id": "051e1f22",
   "metadata": {},
   "outputs": [
    {
     "data": {
      "text/plain": [
       "array([[ 1.28689505e-04, -1.22744911e-03, -3.58834453e-06,\n",
       "         4.76238488e-02,  3.76191977e-02, -4.50284414e-01,\n",
       "        -3.15236715e-01,  4.82545225e-01,  6.71782282e-01,\n",
       "        -1.09768167e-02, -3.45218117e-04, -5.66166506e-05],\n",
       "       [ 1.17088595e-04,  5.02741245e-04, -8.48073694e-04,\n",
       "         5.64151780e-02,  1.96640621e-01, -3.61949215e-01,\n",
       "        -5.58219096e-01,  2.32750788e-01, -6.71797898e-01,\n",
       "         1.09763194e-02,  3.45237418e-04,  5.66169836e-05],\n",
       "       [ 1.24246883e-03,  2.04748045e-03,  3.71147599e-03,\n",
       "         5.55189348e-01,  7.56493500e-01,  1.19382272e-01,\n",
       "         2.84481005e-01,  1.54446844e-01,  2.03545598e-02,\n",
       "        -1.72599086e-03, -2.37029565e-06, -1.51988621e-06],\n",
       "       [ 1.74078632e-06,  2.86866430e-06,  5.20003921e-06,\n",
       "         7.77859372e-04,  1.05990066e-03,  1.67262964e-04,\n",
       "         3.98577993e-04,  2.16170788e-04,  3.41981985e-02,\n",
       "         9.93861950e-01, -5.78986166e-03, -1.42598949e-04],\n",
       "       [ 8.06549781e-05, -2.76456390e-04, -4.44938183e-04,\n",
       "        -7.57600734e-02,  1.98270572e-01,  6.97095049e-01,\n",
       "        -6.53422371e-01, -6.02454692e-02,  1.93856750e-01,\n",
       "        -3.16737890e-03, -9.96230134e-05, -1.63376380e-05],\n",
       "       [ 9.17854146e-05,  3.43974789e-04, -7.24148533e-04,\n",
       "        -7.27211121e-02, -2.57054215e-01,  4.01412419e-01,\n",
       "         2.23903971e-01,  8.23980833e-01, -1.93873424e-01,\n",
       "         3.16684784e-03,  9.96436212e-05,  1.63379935e-05],\n",
       "       [ 8.35173533e-04,  4.58296916e-03, -9.91493210e-05,\n",
       "        -8.21749570e-01,  5.31244518e-01, -7.00786742e-02,\n",
       "         1.76033832e-01,  8.09251539e-02,  5.88687309e-03,\n",
       "        -9.53851328e-05, -4.52249597e-06, -1.40154639e-03],\n",
       "       [ 1.17013693e-06,  6.42106252e-06, -1.38915181e-07,\n",
       "        -1.15132901e-03,  7.44310979e-04, -9.81851573e-05,\n",
       "         2.46635795e-04,  1.13378116e-04, -1.71913445e-04,\n",
       "        -6.29663111e-04,  1.06965319e-03,  9.99985545e-01],\n",
       "       [-1.09871067e-01,  9.59954470e-01,  2.57658712e-01,\n",
       "         1.99545093e-03, -4.27512772e-03, -2.61361370e-04,\n",
       "        -2.06618248e-03, -3.92806208e-04,  9.89722857e-04,\n",
       "        -1.61707545e-05, -5.08620069e-07, -8.34106163e-08],\n",
       "       [-1.03617465e-01, -2.68881545e-01,  9.57577199e-01,\n",
       "        -2.80374236e-03, -1.37991432e-03, -7.81597759e-05,\n",
       "        -1.06295726e-03,  3.76273582e-04, -9.89722497e-04,\n",
       "         1.61707660e-05,  5.08619621e-07,  8.34106086e-08],\n",
       "       [-9.88527979e-01, -7.85045700e-02, -1.29006347e-01,\n",
       "         7.55924779e-05,  2.03996151e-03,  1.20741750e-04,\n",
       "         7.07670819e-04,  4.28685722e-04, -1.71078561e-04,\n",
       "        -1.53804604e-04, -1.40106001e-03,  7.26660166e-06],\n",
       "       [-1.38499731e-03, -1.09990431e-04, -1.80746976e-04,\n",
       "         1.05910386e-07,  2.85813001e-06,  1.69165107e-07,\n",
       "         9.91432442e-07,  3.92137971e-06,  1.43555938e-01,\n",
       "         1.09425698e-01,  9.99981556e-01, -5.18827247e-03]])"
      ]
     },
     "execution_count": 28,
     "metadata": {},
     "output_type": "execute_result"
    }
   ],
   "source": [
    "v "
   ]
  },
  {
   "cell_type": "code",
   "execution_count": 29,
   "id": "67676978",
   "metadata": {},
   "outputs": [],
   "source": [
    "v_prime = v[:, 6]+v[:,7]+v[:,8]+v[:,9]+v[:,10]+v[:,11]"
   ]
  },
  {
   "cell_type": "code",
   "execution_count": 30,
   "id": "dee7784d",
   "metadata": {},
   "outputs": [
    {
     "data": {
      "text/plain": [
       "array([ 8.27712141e-01, -9.85888033e-01,  4.57552528e-01,  1.02274244e+00,\n",
       "       -5.23094429e-01,  8.57294209e-01,  2.61344405e-01,  1.00061364e+00,\n",
       "       -1.48602862e-03, -1.65964338e-03, -5.82320036e-04,  1.24777983e+00])"
      ]
     },
     "execution_count": 30,
     "metadata": {},
     "output_type": "execute_result"
    }
   ],
   "source": [
    "v_prime"
   ]
  },
  {
   "cell_type": "markdown",
   "id": "9b3bad45",
   "metadata": {},
   "source": [
    "### we reshape the values into a 3X4 matrix as desired"
   ]
  },
  {
   "cell_type": "code",
   "execution_count": 31,
   "id": "c736d34a",
   "metadata": {},
   "outputs": [],
   "source": [
    "P = v_prime.reshape((3,4))"
   ]
  },
  {
   "cell_type": "code",
   "execution_count": 32,
   "id": "238fc9ba",
   "metadata": {},
   "outputs": [
    {
     "data": {
      "text/plain": [
       "array([[ 8.27712141e-01, -9.85888033e-01,  4.57552528e-01,\n",
       "         1.02274244e+00],\n",
       "       [-5.23094429e-01,  8.57294209e-01,  2.61344405e-01,\n",
       "         1.00061364e+00],\n",
       "       [-1.48602862e-03, -1.65964338e-03, -5.82320036e-04,\n",
       "         1.24777983e+00]])"
      ]
     },
     "execution_count": 32,
     "metadata": {},
     "output_type": "execute_result"
    }
   ],
   "source": [
    "P"
   ]
  },
  {
   "cell_type": "markdown",
   "id": "257dcae0",
   "metadata": {},
   "source": [
    "# we then separate the 3X3 from it to get the intrinsic matrix and Rotation matrix using QR factorization"
   ]
  },
  {
   "cell_type": "code",
   "execution_count": 33,
   "id": "8c6e9829",
   "metadata": {},
   "outputs": [
    {
     "data": {
      "text/plain": [
       "array([[ 8.27712141e-01, -9.85888033e-01,  4.57552528e-01],\n",
       "       [-5.23094429e-01,  8.57294209e-01,  2.61344405e-01],\n",
       "       [-1.48602862e-03, -1.65964338e-03, -5.82320036e-04]])"
      ]
     },
     "execution_count": 33,
     "metadata": {},
     "output_type": "execute_result"
    }
   ],
   "source": [
    "P[:,:-1]"
   ]
  },
  {
   "cell_type": "code",
   "execution_count": 34,
   "id": "1a75d1c8",
   "metadata": {},
   "outputs": [
    {
     "data": {
      "text/plain": [
       "(3, 3)"
      ]
     },
     "execution_count": 34,
     "metadata": {},
     "output_type": "execute_result"
    }
   ],
   "source": [
    "P[:,:-1].shape"
   ]
  },
  {
   "cell_type": "markdown",
   "id": "ad45c0b4",
   "metadata": {},
   "source": [
    "## Projection matrix QR factorization"
   ]
  },
  {
   "cell_type": "code",
   "execution_count": 35,
   "id": "323dcd6b",
   "metadata": {},
   "outputs": [],
   "source": [
    "Mext, Mint = np.linalg.qr(P[:,:-1])"
   ]
  },
  {
   "cell_type": "code",
   "execution_count": 36,
   "id": "686b533a",
   "metadata": {
    "scrolled": true
   },
   "outputs": [
    {
     "data": {
      "text/plain": [
       "(3, 3)"
      ]
     },
     "execution_count": 36,
     "metadata": {},
     "output_type": "execute_result"
    }
   ],
   "source": [
    "Mext.shape"
   ]
  },
  {
   "cell_type": "code",
   "execution_count": 37,
   "id": "e0c29cf6",
   "metadata": {},
   "outputs": [
    {
     "data": {
      "text/plain": [
       "(3, 3)"
      ]
     },
     "execution_count": 37,
     "metadata": {},
     "output_type": "execute_result"
    }
   ],
   "source": [
    "Mint.shape"
   ]
  },
  {
   "cell_type": "code",
   "execution_count": 38,
   "id": "8a14b270",
   "metadata": {},
   "outputs": [
    {
     "data": {
      "text/plain": [
       "array([[-0.97915136,  1.29139877, -0.24716796],\n",
       "       [ 0.        , -0.1980418 , -0.4652899 ],\n",
       "       [ 0.        ,  0.        ,  0.00829818]])"
      ]
     },
     "execution_count": 38,
     "metadata": {},
     "output_type": "execute_result"
    }
   ],
   "source": [
    "Mint"
   ]
  },
  {
   "cell_type": "code",
   "execution_count": 39,
   "id": "20d3b1c6",
   "metadata": {},
   "outputs": [],
   "source": [
    "f_x_pixels = Mint[0][0]/P[2][2]"
   ]
  },
  {
   "cell_type": "code",
   "execution_count": 40,
   "id": "841f2e71",
   "metadata": {},
   "outputs": [
    {
     "data": {
      "text/plain": [
       "1681.466023632946"
      ]
     },
     "execution_count": 40,
     "metadata": {},
     "output_type": "execute_result"
    }
   ],
   "source": [
    "f_x_pixels"
   ]
  },
  {
   "cell_type": "code",
   "execution_count": 41,
   "id": "af9d34bc",
   "metadata": {},
   "outputs": [],
   "source": [
    "p_x_pixels = Mint[0][2]/P[2][2]"
   ]
  },
  {
   "cell_type": "code",
   "execution_count": 42,
   "id": "da7621c3",
   "metadata": {},
   "outputs": [
    {
     "data": {
      "text/plain": [
       "424.4538161663041"
      ]
     },
     "execution_count": 42,
     "metadata": {},
     "output_type": "execute_result"
    }
   ],
   "source": [
    "p_x_pixels"
   ]
  },
  {
   "cell_type": "code",
   "execution_count": 43,
   "id": "e90eb657",
   "metadata": {},
   "outputs": [],
   "source": [
    "p_y_pixels = Mint[1][2]/P[2][2]"
   ]
  },
  {
   "cell_type": "code",
   "execution_count": 44,
   "id": "3d5846a7",
   "metadata": {},
   "outputs": [
    {
     "data": {
      "text/plain": [
       "799.0278056774581"
      ]
     },
     "execution_count": 44,
     "metadata": {},
     "output_type": "execute_result"
    }
   ],
   "source": [
    "p_y_pixels"
   ]
  },
  {
   "cell_type": "code",
   "execution_count": 45,
   "id": "e6377c04",
   "metadata": {},
   "outputs": [
    {
     "data": {
      "text/plain": [
       "array([[-0.84533626, -0.53412038,  0.01104678],\n",
       "       [ 0.53423245, -0.84521085,  0.01463938],\n",
       "       [ 0.00151767,  0.01827675,  0.99983181]])"
      ]
     },
     "execution_count": 45,
     "metadata": {},
     "output_type": "execute_result"
    }
   ],
   "source": [
    "Mext"
   ]
  },
  {
   "cell_type": "markdown",
   "id": "c59df1da",
   "metadata": {},
   "source": [
    "# Finding Rotations along X-axis, Y-axis and Z-axis\n",
    "\n",
    "##### We will consider for our experiment that checkered board was first rotated along X-axis, Y-axis and Z-axis\n",
    "\n",
    "##### Rotation Matrix along X:\n",
    "\n",
    "$R_{\\theta_x} = \\begin{bmatrix} 1 & 0 & 0 \\\\ 0 & cos\\theta_x & -sin\\theta_x \\\\ 0 & sin\\theta_x & cos\\theta_x\\end{bmatrix}$\n",
    "\n",
    "##### Rotation Matrix along Y:\n",
    "\n",
    "$R_{\\theta_y} = \\begin{bmatrix} cos\\theta_y & 0 & sin\\theta_y \\\\ 0 & 1 & 0 \\\\ -sin\\theta_y & 0 & cos\\theta_y\\end{bmatrix}$\n",
    "\n",
    "##### Rotation Matrix along Z:\n",
    "\n",
    "$R_{\\theta_z} = \\begin{bmatrix} cos\\theta_z & -sin\\theta_z & 0 \\\\ sin\\theta_z & cos\\theta_z & 0 \\\\ 0 & 0 & 1 \\end{bmatrix}$\n",
    "\n",
    "##### Multiplying $R_{\\theta_x}$ and $R_{\\theta_y}$ and $R_{\\theta_z}$ :\n",
    "\n",
    "$R_{\\theta_{xyz}} = \\begin{bmatrix} cos\\theta_y cos\\theta_z & -cos\\theta_y sin\\theta_z & sin\\theta_y \\\\ sin\\theta_x sin\\theta_y cos\\theta_z + cos\\theta_x sin\\theta_z & -sin\\theta_x sin\\theta_y sin\\theta_z + cos\\theta_x cos\\theta_z & -sin\\theta_x cos\\theta_y \\\\ -cos\\theta_x sin\\theta_y cos\\theta_z + sin\\theta_x sin\\theta_z & cos\\theta_x sin\\theta_y sin\\theta_z + sin\\theta_x cos\\theta_z & cos\\theta_x cos\\theta_y \\end{bmatrix}$\n",
    "\n",
    "##### So our final rotation matrix is in this form from this $R_{\\theta_{xyz}}$ matrix we need to compare with the values in $M_{ext}$ and we will get our angles of rotation at each axis respectively\n"
   ]
  },
  {
   "cell_type": "markdown",
   "id": "348507a5",
   "metadata": {},
   "source": [
    "## To get $\\theta_y$\n",
    "\n",
    "##### We need take $cos^{-1}(R_{\\theta_{xyz}}(1)(3))$  and this will give us $\\theta_y$. \n",
    "\n",
    "##### where (1)(3) correspond to the indices of the rows and colums of the matrix"
   ]
  },
  {
   "cell_type": "code",
   "execution_count": 46,
   "id": "abc38718",
   "metadata": {},
   "outputs": [],
   "source": [
    "theta_y = np.arcsin(Mext[0][2])"
   ]
  },
  {
   "cell_type": "markdown",
   "id": "63745694",
   "metadata": {},
   "source": [
    "## Therefore, $\\theta_y = 0.011047008729553763^{\\circ} \\approx 0^{\\circ}$ "
   ]
  },
  {
   "cell_type": "code",
   "execution_count": 47,
   "id": "bb6d10d4",
   "metadata": {},
   "outputs": [
    {
     "data": {
      "text/plain": [
       "0.011047008729553763"
      ]
     },
     "execution_count": 47,
     "metadata": {},
     "output_type": "execute_result"
    }
   ],
   "source": [
    "theta_y"
   ]
  },
  {
   "cell_type": "markdown",
   "id": "a8c17f37",
   "metadata": {},
   "source": [
    "## To get $\\theta_z$\n",
    "\n",
    "1. We know $\\theta_y$. We can use it to get $\\theta_z$ from $R_{\\theta_{xyz}}(1)(1)$\n",
    "\n",
    "2. Divide $cos\\theta_y$ from $R_{\\theta_{xyz}}(1)(1)$ to get $cos\\theta_z$\n",
    "\n",
    "3. Once we get $cos\\theta_z$ we can take $cos^{-1}(\\theta_z)$ to get $\\theta_z$"
   ]
  },
  {
   "cell_type": "code",
   "execution_count": 48,
   "id": "e2e060b1",
   "metadata": {},
   "outputs": [],
   "source": [
    "cos_theta_z = Mext[0][0]/np.cos(theta_y)"
   ]
  },
  {
   "cell_type": "code",
   "execution_count": 49,
   "id": "a8cafd73",
   "metadata": {},
   "outputs": [
    {
     "data": {
      "text/plain": [
       "-0.845387838801787"
      ]
     },
     "execution_count": 49,
     "metadata": {},
     "output_type": "execute_result"
    }
   ],
   "source": [
    "cos_theta_z"
   ]
  },
  {
   "cell_type": "code",
   "execution_count": 50,
   "id": "7d83dc40",
   "metadata": {},
   "outputs": [],
   "source": [
    "theta_z = np.arccos(cos_theta_z)"
   ]
  },
  {
   "cell_type": "markdown",
   "id": "c546f066",
   "metadata": {},
   "source": [
    "## Therefore, $\\theta_z = 2.5780871591054306^{\\circ}$ "
   ]
  },
  {
   "cell_type": "code",
   "execution_count": 51,
   "id": "250a7d3d",
   "metadata": {},
   "outputs": [
    {
     "data": {
      "text/plain": [
       "2.5780871591054306"
      ]
     },
     "execution_count": 51,
     "metadata": {},
     "output_type": "execute_result"
    }
   ],
   "source": [
    "theta_z"
   ]
  },
  {
   "cell_type": "markdown",
   "id": "d87288f0",
   "metadata": {},
   "source": [
    "## To get $\\theta_x$\n",
    "\n",
    "1. We know $\\theta_y$. We can use it to get $\\theta_x$ from $R_{\\theta_{xyz}}(3)(3)$\n",
    "\n",
    "2. Divide $cos\\theta_y$ from $R_{\\theta_{xyz}}(3)(3)$ to get $cos\\theta_x$\n",
    "\n",
    "3. Once we get $cos\\theta_x$ we can take $cos^{-1}(\\theta_x)$ to get $\\theta_x$"
   ]
  },
  {
   "cell_type": "code",
   "execution_count": 52,
   "id": "7f0e2084",
   "metadata": {},
   "outputs": [],
   "source": [
    "cos_theta_x = Mext[2][2]/np.cos(theta_y)"
   ]
  },
  {
   "cell_type": "code",
   "execution_count": 53,
   "id": "8bb1243e",
   "metadata": {},
   "outputs": [
    {
     "data": {
      "text/plain": [
       "0.9998928254429142"
      ]
     },
     "execution_count": 53,
     "metadata": {},
     "output_type": "execute_result"
    }
   ],
   "source": [
    "cos_theta_x"
   ]
  },
  {
   "cell_type": "code",
   "execution_count": 54,
   "id": "97c27ff3",
   "metadata": {},
   "outputs": [],
   "source": [
    "theta_x = np.arccos(cos_theta_x)"
   ]
  },
  {
   "cell_type": "markdown",
   "id": "2dbb541a",
   "metadata": {},
   "source": [
    "## Therefore, $\\theta_x = 0.014640797214501924^{\\circ} \\approx 0^{\\circ}$ "
   ]
  },
  {
   "cell_type": "code",
   "execution_count": 55,
   "id": "800b5ff1",
   "metadata": {},
   "outputs": [
    {
     "data": {
      "text/plain": [
       "0.014640797214501924"
      ]
     },
     "execution_count": 55,
     "metadata": {},
     "output_type": "execute_result"
    }
   ],
   "source": [
    "theta_x"
   ]
  },
  {
   "cell_type": "markdown",
   "id": "30cdf127",
   "metadata": {},
   "source": [
    "## To find translations:\n",
    "\n",
    "$ t =  M^{-1}*\\begin{bmatrix} P_{14} \\\\ P_{24} \\\\ P_{34} \\\\ P_{44}\\end{bmatrix}$"
   ]
  },
  {
   "cell_type": "code",
   "execution_count": 56,
   "id": "96c9f10e",
   "metadata": {},
   "outputs": [],
   "source": [
    "t = np.matmul(np.linalg.inv(Mint),P[:,-1])"
   ]
  },
  {
   "cell_type": "code",
   "execution_count": 57,
   "id": "7b265cad",
   "metadata": {},
   "outputs": [
    {
     "data": {
      "text/plain": [
       "array([-511.60822828, -358.33473326,  150.36785282])"
      ]
     },
     "execution_count": 57,
     "metadata": {},
     "output_type": "execute_result"
    }
   ],
   "source": [
    "t"
   ]
  }
 ],
 "metadata": {
  "kernelspec": {
   "display_name": "Python 3",
   "language": "python",
   "name": "python3"
  },
  "language_info": {
   "codemirror_mode": {
    "name": "ipython",
    "version": 3
   },
   "file_extension": ".py",
   "mimetype": "text/x-python",
   "name": "python",
   "nbconvert_exporter": "python",
   "pygments_lexer": "ipython3",
   "version": "3.8.8"
  }
 },
 "nbformat": 4,
 "nbformat_minor": 5
}
