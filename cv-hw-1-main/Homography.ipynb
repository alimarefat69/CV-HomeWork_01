{
 "cells": [
  {
   "cell_type": "markdown",
   "id": "3a704528",
   "metadata": {},
   "source": [
    "# Homography\n",
    "\n",
    "#### Name: Alireza Marefatvayghani \n",
    "\n",
    "$$ \\\\ $$\n",
    "Here we are computing homography matrix from one image to another by using the pixel coordinates of the corresponding points in the image. We are creating a homography matrix 'h' that will convert the image pixel coordinates from the source image to the destination image by projecting the points in the source image plane to the destination image plane\n",
    "\n"
   ]
  },
  {
   "cell_type": "code",
   "execution_count": 1,
   "id": "6420f0e8",
   "metadata": {},
   "outputs": [],
   "source": [
    "import numpy as np"
   ]
  },
  {
   "cell_type": "markdown",
   "id": "0d1a371e",
   "metadata": {},
   "source": [
    "### we import numpy for matrix operations\n",
    "\n",
    "\n",
    "## Creating image points list\n",
    "\n",
    "---------------------\n",
    "\n",
    "Here we create 4 lists each consisting of the corresponding points of the same features from image1 to image2\n",
    "\n",
    "- xs - X coordinates of the image pixel position from source image\n",
    "- ys - Y coordinates of the image pixel position from source image\n",
    "- xd - X coordinates of the image pixel position from the destination image\n",
    "- yd - Y coordinates of the image pixel position from the destination image"
   ]
  },
  {
   "cell_type": "code",
   "execution_count": 2,
   "id": "7a878935",
   "metadata": {},
   "outputs": [],
   "source": [
    "xs = [368.1937,366.9331,365.6942,364.2767,362.9518,361.6201,360.1071,419.5753,418.3222,416.9176,415.6446,414.2065,412.7598,411.2062,471.1135,469.6650,468.1966,466.7643,465.3264,463.9024,462.3837,522.7403,521.1732,519.8360, 518.3030]\n",
    "ys = [188.3461,240.6366,292.5464,344.1300,395.6568,447.0891,498.7948,189.8007,242.0051,293.9554,345.5727,397.0850,448.6121,500.3589,191.0175,243.2864,295.2578,346.9755,398.6040,450.2090,502.0514,192.2352,244.5373,296.6545,348.4220]\n",
    "xd = [319.0576, 348.5998, 377.6357, 406.4299, 435.1823, 463.8352, 492.4751, 361.0885, 390.4941, 419.5286, 448.2632, 477.0448, 505.5887, 534.1678, 403.1739, 432.2963, 461.3121, 490.0896, 518.6993, 547.2607, 575.9412, 445.1797, 474.2915, 503.2628, 531.9940]\n",
    "yd = [370.0124, 412.3830, 454.3980, 496.2708, 537.9025, 579.5414, 621.3035, 341.5682, 383.8370, 426.0496, 467.8811, 509.6456, 551.1746, 593.2059, 312.8976, 355.4028, 397.6080, 439.5705, 481.2976, 523.1167, 564.9918, 284.1512, 326.7610, 369.0763, 411.0553]"
   ]
  },
  {
   "cell_type": "markdown",
   "id": "e3921731",
   "metadata": {},
   "source": [
    "### Sanity check so that we make sure we have 25 points from each image as we have taken 25 features \n",
    "\n",
    "Even though there are only 9 unknowns in the equation the more points we have the more accurate we wil have our homography matrix as we are setting up the problem as an overdetermined problem."
   ]
  },
  {
   "cell_type": "code",
   "execution_count": 24,
   "id": "ce51799a",
   "metadata": {},
   "outputs": [
    {
     "data": {
      "text/plain": [
       "25"
      ]
     },
     "execution_count": 24,
     "metadata": {},
     "output_type": "execute_result"
    }
   ],
   "source": [
    "len(xs)"
   ]
  },
  {
   "cell_type": "code",
   "execution_count": 25,
   "id": "8edff3a5",
   "metadata": {},
   "outputs": [
    {
     "data": {
      "text/plain": [
       "25"
      ]
     },
     "execution_count": 25,
     "metadata": {},
     "output_type": "execute_result"
    }
   ],
   "source": [
    "len(ys)"
   ]
  },
  {
   "cell_type": "code",
   "execution_count": 26,
   "id": "3f6728a3",
   "metadata": {},
   "outputs": [
    {
     "data": {
      "text/plain": [
       "25"
      ]
     },
     "execution_count": 26,
     "metadata": {},
     "output_type": "execute_result"
    }
   ],
   "source": [
    "len(xd)"
   ]
  },
  {
   "cell_type": "code",
   "execution_count": 27,
   "id": "700a9e1d",
   "metadata": {},
   "outputs": [
    {
     "data": {
      "text/plain": [
       "25"
      ]
     },
     "execution_count": 27,
     "metadata": {},
     "output_type": "execute_result"
    }
   ],
   "source": [
    "len(yd)"
   ]
  },
  {
   "cell_type": "markdown",
   "id": "b0842a7a",
   "metadata": {},
   "source": [
    "# Once we have the image points now we will solve for homography\n",
    "\n",
    "$$\\begin{bmatrix} xd \\\\ yd \\\\ 1 \\end{bmatrix} \\equiv  \\begin{bmatrix} xd \\\\ yd \\\\ zd \\end{bmatrix} = \\begin{bmatrix} h_{11} & h_{12} & h_{13} \\\\ h_{21} & h_{22} & h_{23} \\\\ h_{31} & h_{32} & h_{33} \\end{bmatrix} \\begin{bmatrix} xs \\\\ ys \\\\ 1 \\end{bmatrix}$$ \n",
    "\n",
    "To get actual points from homogenous representation you need to do $$ \\frac{xd^{(i)}}{zd^{(i)}} and \\frac{yd^{(i)}}{zd^{(i)}}$$\n",
    "\n",
    "So to solve for this we will have A.h=0\n",
    "\n",
    "$$\\begin{bmatrix} xs^{(i)} & ys^{(i)} & 1 & 0 & 0 & 0 & -xd^{(i)}xs^{(i)} & -xd^{(i)}ys^{(i)} & -xd^{(i)} \\\\ 0 & 0 & 0 & xs^{(i)} & ys^{(i)} & 1 & -yd^{(i)}xs^{(i)} & -yd^{(i)}ys^{(i)} & -yd^{(i)} \\end{bmatrix} \\begin{bmatrix} h_{11} \\\\ h_{12} \\\\ h_{13} \\\\ h_{21} \\\\ h_{22} \\\\ h_{23} \\\\ h_{31} \\\\ h_{32} \\\\ h_{33} \\end{bmatrix} =\\begin{bmatrix} 0 \\\\ 0 \\end{bmatrix} $$   \n",
    "\n",
    "This equation is for one point like this we need to repeat for all sets of points\n",
    "\n",
    "$$\\begin{bmatrix} xs^{(1)} & ys^{(1)} & 1 & 0 & 0 & 0 & -xd^{(1)}xs^{(1)} & -xd^{(1)}ys^{(1)} & -xd^{(1)} \\\\ 0 & 0 & 0 & xs^{(1)} & ys^{(1)} & 1 & -yd^{(1)}xs^{(1)} & -yd^{(1)}ys^{(1)} & -yd^{(1)} \\\\ xs^{(2)} & ys^{(2)} & 1 & 0 & 0 & 0 & -xd^{(2)}xs^{(2)} & -xd^{(2)}ys^{(2)} & -xd^{(2)} \\\\ 0 & 0 & 0 & xs^{(2)} & ys^{(2)} & 1 & -yd^{(2)}xs^{(2)} & -yd^{(2)}ys^{(2)} & -yd^{(2)} \\\\ xs^{(3)} & ys^{(3)} & 1 & 0 & 0 & 0 & -xd^{(3)}xs^{(3)} & -xd^{(3)}ys^{(3)} & -xd^{(3)} \\\\ 0 & 0 & 0 & xs^{(3)} & ys^{(3)} & 1 & -yd^{(3)}xs^{(3)} & -yd^{(3)}ys^{(3)} & -yd^{(3)} \\\\ xs^{(4)} & ys^{(4)} & 1 & 0 & 0 & 0 & -xd^{(4)}xs^{(4)} & -xd^{(4)}ys^{(4)} & -xd^{(4)} \\\\ 0 & 0 & 0 & xs^{(4)} & ys^{(4)} & 1 & -yd^{(4)}xs^{(4)} & -yd^{(4)}ys^{(4)} & -yd^{(4)} \\\\ xs^{(5)} & ys^{(5)} & 1 & 0 & 0 & 0 & -xd^{(5)}xs^{(5)} & -xd^{(5)}ys^{(5)} & -xd^{(5)} \\\\ 0 & 0 & 0 & xs^{(5)} & ys^{(5)} & 1 & -yd^{(5)}xs^{(5)} & -yd^{(5)}ys^{(5)} & -yd^{(5)} \\\\ xs^{(6)} & ys^{(6)} & 1 & 0 & 0 & 0 & -xd^{(6)}xs^{(6)} & -xd^{(6)}ys^{(6)} & -xd^{(6)} \\\\ 0 & 0 & 0 & xs^{(6)} & ys^{(6)} & 1 & -yd^{(6)}xs^{(6)} & -yd^{(6)}ys^{(6)} & -yd^{(6)} \\\\ xs^{(7)} & ys^{(7)} & 1 & 0 & 0 & 0 & -xd^{(7)}xs^{(7)} & -xd^{(7)}ys^{(7)} & -xd^{(7)} \\\\ 0 & 0 & 0 & xs^{(7)} & ys^{(7)} & 1 & -yd^{(7)}xs^{(7)} & -yd^{(7)}ys^{(7)} & -yd^{(7)} \\\\ xs^{(8)} & ys^{(8)} & 1 & 0 & 0 & 0 & -xd^{(8)}xs^{(8)} & -xd^{(8)}ys^{(8)} & -xd^{(8)} \\\\ 0 & 0 & 0 & xs^{(8)} & ys^{(8)} & 1 & -yd^{(8)}xs^{(8)} & -yd^{(8)}ys^{(8)} & -yd^{(8)}\n",
    "\\\\ xs^{(9)} & ys^{(9)} & 1 & 0 & 0 & 0 & -xd^{(9)}xs^{(9)} & -xd^{(9)}ys^{(9)} & -xd^{(9)} \\\\ 0 & 0 & 0 & xs^{(9)} & ys^{(9)} & 1 & -yd^{(9)}xs^{(9)} & -yd^{(9)}ys^{(9)} & -yd^{(9)}\n",
    "\\\\ xs^{(10)} & ys^{(10)} & 1 & 0 & 0 & 0 & -xd^{(10)}xs^{(10)} & -xd^{(10)}ys^{(10)} & -xd^{(10)} \\\\ 0 & 0 & 0 & xs^{(10)} & ys^{(10)} & 1 & -yd^{(10)}xs^{(10)} & -yd^{(10)}ys^{(10)} & -yd^{(10)}\n",
    "\\\\ ... & ... & ... & ... & ... & ... & ... & ... & ... \\\\\n",
    "xs^{(25)} & ys^{(25)} & 1 & 0 & 0 & 0 & -xd^{(25)}xs^{(25)} & -xd^{(25)}ys^{(25)} & -xd^{(25)} \\\\ 0 & 0 & 0 & xs^{(25)} & ys^{(25)} & 1 & -yd^{(25)}xs^{(25)} & -yd^{(25)}ys^{(25)} & -yd^{(25)}\n",
    "\\end{bmatrix} \\begin{bmatrix} h_{11} \\\\ h_{12} \\\\ h_{13} \\\\ h_{21} \\\\ h_{22} \\\\ h_{23} \\\\ h_{31} \\\\ h_{32} \\\\ h_{33} \\end{bmatrix} =\\begin{bmatrix} 0 \\\\ 0 \\end{bmatrix} $$  \n",
    "\n",
    "\n",
    "#### Now we need to solve for h."
   ]
  },
  {
   "cell_type": "code",
   "execution_count": 28,
   "id": "8c45a0f4",
   "metadata": {},
   "outputs": [],
   "source": [
    "#xs, ys, 1, 0, 0, 0, -xdxs, -xdys, -xd\n",
    "#0, 0, 0, xs, ys, 1, -ydxs, -ydys, -yd\n",
    "xdxs=-np.multiply(np.array(xd),np.array(xs))\n",
    "xdys =-np.multiply(np.array(xd),np.array(ys)) \n",
    "ydxs=-np.multiply(np.array(yd),np.array(xs))\n",
    "ydys=-np.multiply(np.array(yd),np.array(ys))"
   ]
  },
  {
   "cell_type": "code",
   "execution_count": 29,
   "id": "638cd477",
   "metadata": {},
   "outputs": [],
   "source": [
    "A=[]\n",
    "for i in range(0,25):\n",
    "    mat1 = [xs[i],ys[i],1,0,0,0,xdxs[i],xdys[i],-xd[i]]\n",
    "    mat2 = [0,0,0,xs[i],ys[i],1,ydxs[i],ydys[i],-yd[i]]\n",
    "    A.append(mat1)\n",
    "    A.append(mat2)"
   ]
  },
  {
   "cell_type": "code",
   "execution_count": 30,
   "id": "66de973c",
   "metadata": {},
   "outputs": [],
   "source": [
    "A = np.array(A)"
   ]
  },
  {
   "cell_type": "code",
   "execution_count": 31,
   "id": "5f194baa",
   "metadata": {},
   "outputs": [
    {
     "data": {
      "text/plain": [
       "(50, 9)"
      ]
     },
     "execution_count": 31,
     "metadata": {},
     "output_type": "execute_result"
    }
   ],
   "source": [
    "A.shape"
   ]
  },
  {
   "cell_type": "markdown",
   "id": "ac37259c",
   "metadata": {},
   "source": [
    "## To solve for H\n",
    "\n",
    "Solve for **h** such that:\n",
    "<br>\n",
    "$$A.h = 0 \\space and \\space \\lvert\\lvert h \\rvert\\rvert = 0$$\n",
    "\n",
    "Loss function L(h):\n",
    "\n",
    "$$L(h,\\lambda) = h^TA^TAh - \\lambda(h^Th-1)$$\n",
    "\n",
    "On taking first derivative:\n",
    "\n",
    "$$ 2A^TAh - 2\\lambda h = 0$$\n",
    "\n",
    "We can set it up as a Eigen Value Decomposition of the inner product of matrix A:\n",
    "\n",
    "$$A^TAh = \\lambda h$$\n",
    "\n",
    "The Eigenvector *h* belongs to the smallest eigenvalue of $\\lambda$ of matrix $A^TA$ minimizes the loss function $L(h)$."
   ]
  },
  {
   "cell_type": "code",
   "execution_count": 32,
   "id": "237311e3",
   "metadata": {},
   "outputs": [],
   "source": [
    "inner_product = np.dot(A.T,A)"
   ]
  },
  {
   "cell_type": "code",
   "execution_count": 33,
   "id": "5ff449ef",
   "metadata": {},
   "outputs": [
    {
     "data": {
      "text/plain": [
       "(9, 9)"
      ]
     },
     "execution_count": 33,
     "metadata": {},
     "output_type": "execute_result"
    }
   ],
   "source": [
    "inner_product.shape"
   ]
  },
  {
   "cell_type": "code",
   "execution_count": 34,
   "id": "745d1bd7",
   "metadata": {},
   "outputs": [],
   "source": [
    "w, v = np.linalg.eig(inner_product)"
   ]
  },
  {
   "cell_type": "code",
   "execution_count": 35,
   "id": "82f39892",
   "metadata": {},
   "outputs": [
    {
     "data": {
      "text/plain": [
       "array([3.37836847e+12, 8.85307300e+10, 7.52578625e+06, 2.70784459e+05,\n",
       "       1.25346927e+05, 1.96727109e+04, 4.78534174e+03, 1.05764484e-02,\n",
       "       5.47935846e-07])"
      ]
     },
     "execution_count": 35,
     "metadata": {},
     "output_type": "execute_result"
    }
   ],
   "source": [
    "w"
   ]
  },
  {
   "cell_type": "code",
   "execution_count": 36,
   "id": "a2465996",
   "metadata": {},
   "outputs": [],
   "source": [
    "v = v.T # take transpose as the solution exists in the null space"
   ]
  },
  {
   "cell_type": "markdown",
   "id": "a9ff0593",
   "metadata": {},
   "source": [
    "#### This step us done to find rank of the matrix"
   ]
  },
  {
   "cell_type": "code",
   "execution_count": 38,
   "id": "2f4c5df5",
   "metadata": {},
   "outputs": [
    {
     "data": {
      "text/plain": [
       "array([1.00000000e+00, 2.62051729e-02, 2.22763926e-06, 8.01524348e-08,\n",
       "       3.71027993e-08, 5.82313951e-09, 1.41646531e-09, 3.13063791e-15,\n",
       "       1.62189486e-19])"
      ]
     },
     "execution_count": 38,
     "metadata": {},
     "output_type": "execute_result"
    }
   ],
   "source": [
    "w/w[0]"
   ]
  },
  {
   "cell_type": "code",
   "execution_count": 17,
   "id": "a304bcad",
   "metadata": {},
   "outputs": [],
   "source": [
    "v_prime = v[-1]"
   ]
  },
  {
   "cell_type": "code",
   "execution_count": 18,
   "id": "e5a9c64a",
   "metadata": {},
   "outputs": [],
   "source": [
    "h = v_prime.reshape((3,3))"
   ]
  },
  {
   "cell_type": "markdown",
   "id": "42646736",
   "metadata": {},
   "source": [
    "#### We have now taken the last column and reshaped it as a 3X4 matrix which is our homography matrix *h*"
   ]
  },
  {
   "cell_type": "code",
   "execution_count": 39,
   "id": "9528f0e1",
   "metadata": {},
   "outputs": [
    {
     "data": {
      "text/plain": [
       "array([[-1.83609191e-03, -1.33610055e-03,  2.00183150e-01],\n",
       "       [ 1.30622399e-03, -1.83013316e-03, -9.79750660e-01],\n",
       "       [-1.95411188e-08, -3.02895676e-08, -2.26695356e-03]])"
      ]
     },
     "execution_count": 39,
     "metadata": {},
     "output_type": "execute_result"
    }
   ],
   "source": [
    "h"
   ]
  },
  {
   "cell_type": "markdown",
   "id": "54519487",
   "metadata": {},
   "source": [
    "### Now let's check if our homography matrix obtained is right by using it to project a point from source image plane to destination image plane"
   ]
  },
  {
   "cell_type": "code",
   "execution_count": 40,
   "id": "630217d3",
   "metadata": {},
   "outputs": [],
   "source": [
    "product = np.dot(h, np.array([368.1937, 188.3461, 1]).T)"
   ]
  },
  {
   "cell_type": "code",
   "execution_count": 41,
   "id": "5bb3f3f9",
   "metadata": {},
   "outputs": [
    {
     "data": {
      "text/plain": [
       "array([-0.72750365, -0.84350566, -0.00227985])"
      ]
     },
     "execution_count": 41,
     "metadata": {},
     "output_type": "execute_result"
    }
   ],
   "source": [
    "product"
   ]
  },
  {
   "cell_type": "code",
   "execution_count": 42,
   "id": "a0d2c208",
   "metadata": {},
   "outputs": [],
   "source": [
    "product = product / product[2]"
   ]
  },
  {
   "cell_type": "code",
   "execution_count": 43,
   "id": "dc385d44",
   "metadata": {},
   "outputs": [
    {
     "data": {
      "text/plain": [
       "array([319.10106592, 369.98241231,   1.        ])"
      ]
     },
     "execution_count": 43,
     "metadata": {},
     "output_type": "execute_result"
    }
   ],
   "source": [
    "product"
   ]
  },
  {
   "cell_type": "markdown",
   "id": "1bba2d1a",
   "metadata": {},
   "source": [
    "### We can see that the points obtained are close to the actual points in the destination image plane which confirms that the obtained homography matrix *h* is correct\n",
    "\n",
    "## Part C:\n",
    "$$ \\\\ $$\n",
    "Github Link: [Click Here](https://github.com/abbaasalif/CV_HW1_depth)\n",
    "\n",
    "$$ \\\\ $$\n",
    "**Maximum Resolution**: *13MP (4208x3120 pixels)* (color camera) and *480p (640X480)* (Stereo pair)\n",
    "\n",
    "$$ \\\\ $$\n",
    "**Maximum FPS**: *60FPS* (color camera) and *200FPS* (Stereo Pair)\n"
   ]
  }
 ],
 "metadata": {
  "kernelspec": {
   "display_name": "Python 3",
   "language": "python",
   "name": "python3"
  },
  "language_info": {
   "codemirror_mode": {
    "name": "ipython",
    "version": 3
   },
   "file_extension": ".py",
   "mimetype": "text/x-python",
   "name": "python",
   "nbconvert_exporter": "python",
   "pygments_lexer": "ipython3",
   "version": "3.8.8"
  }
 },
 "nbformat": 4,
 "nbformat_minor": 5
}
